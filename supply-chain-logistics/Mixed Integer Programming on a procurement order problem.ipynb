{
  "nbformat": 4,
  "nbformat_minor": 0,
  "metadata": {
    "colab": {
      "name": "mixed integer programming on a procurement problem.ipynb",
      "provenance": [],
      "collapsed_sections": []
    },
    "kernelspec": {
      "name": "python3",
      "display_name": "Python 3"
    }
  },
  "cells": [
    {
      "cell_type": "markdown",
      "source": [
        "#### Mixed Integer Programming (MIP) applied to an Operations Research (OR) problem of procurements / productions:\n",
        "<br>\n",
        "\n",
        "In daily operations or decision making processes of supply chain or manufacturing industry, there are scenarios for computations of the input resources to be consumed subject to objectives of maximizing or minimizing a target. The problem settings are to be self-defined by analysts or specialists in which a number of constraints would be proposed, with optimization algorithms, an optimal solution could be found given the variables could be feasibly solved conforming all constraints.\n",
        "\n",
        "This notebook demonstrates a procurement or a production context, where decisions were to be assigning each of a set of products to one of the sources. If the organiztion was a producer possessing production lines, then the sources would be raw materials suppliers, while if the organization was a wholesaler or distributor, then it would be placing procurement orders to purchase finished goods from sourcing vendors. The objective would be minimizing the total processing time (production, order processing, delivery, etc.), which would bring benefits of cutting production or processing costs with shorter lead time.\n",
        "\n",
        "<br>\n",
        "Define the following variables: <br>\n",
        "$St = Materials\\ / \\ Stocks$<br>\n",
        "$Pc = Weekly\\ Production\\ Capacity$<br>\n",
        "$Lot = Lotsize\\ / \\ Minimum\\ Order\\ Quantity$<br>\n",
        "$Dem = Demand\\ Quantity$<br>\n",
        "$Lt = Lead\\ Time\\ (weeks)$<br>\n",
        "$Sc = Supplier\\ Total\\ Production\\ Capacity$<br>\n",
        "<br>\n",
        "Decision and objective variables: <br>\n",
        "$Pt = Total\\ Processing\\ Time$<br>\n",
        "$V{ij} = I\\ (product(i)\\ assigned\\ to\\ source(j))$<br>\n",
        "<br>\n",
        "Subject to the following constraints for products i's and sources j's:<br>\n",
        "$\\sum_{j=1}^{J} V{ij} = 1 \\ $  (i.e. each product allocated to only 1 source)<br>\n",
        "$ST{i} + PC{i} \\ * \\ PT{i} \\ >= DEM{i} \\ $ (i.e. demanded quautity should be fulfilled)<br>\n",
        "$PC{i} \\ + \\ PT{i} \\ >= LOT{i} \\ $ (i.e. each batch of production should be fulfilled the lotsize requirement)<br>\n",
        "$PT{i} \\ >= LT{i} \\ $ (i.e. total processing time should exceed the production lead time)<br>\n",
        "$\\sum_{i=1}^{I} V{ij} \\ * PC{ij} \\ * \\ PT{i} \\ <= SC{j} \\ $  (i.e. all production quantities should not exceed total capacity for each source)<br>\n",
        "<br>\n",
        "Objective function:<br>\n",
        "$minimize\\ ( \\sum_{i=1}^{I} \\sum_{j=1}^{J} PT{ij} )$<br>\n",
        "<br>\n",
        "\n",
        "The simulator() function was used to generate hypothetic data given specification on some upper and lower limits to imitate a real situation. Then, the models() function tried to optimize the mixed integer programming model with the constraints and objective funciton. Sometimes, there might be no feasible solution, or sometimes multiple solutions returned in the pool of solutions. In this example, 1 optimal solution was given, and reviewing the results, 3 types of products particularly had long processing periods due to low weekly capacity of resources allocated. Perhaps, they are likely high-end products with long development cycle. Though, this was from simulation perspective testing the implementation of the model while the real data might not behave like this. \n"
      ],
      "metadata": {
        "id": "uRmlOe_uj6ms"
      }
    },
    {
      "cell_type": "code",
      "metadata": {
        "id": "hPWEjR8EpqEH",
        "colab": {
          "base_uri": "https://localhost:8080/"
        },
        "outputId": "afbe75d6-2b54-4bec-d24f-017ed7f841fd"
      },
      "source": [
        "!pip install mip"
      ],
      "execution_count": 1,
      "outputs": [
        {
          "output_type": "stream",
          "name": "stdout",
          "text": [
            "Collecting mip\n",
            "  Downloading mip-1.13.0-py3-none-any.whl (48.0 MB)\n",
            "\u001b[K     |████████████████████████████████| 48.0 MB 1.7 MB/s \n",
            "\u001b[?25hRequirement already satisfied: cffi in /usr/local/lib/python3.7/dist-packages (from mip) (1.15.0)\n",
            "Requirement already satisfied: pycparser in /usr/local/lib/python3.7/dist-packages (from cffi->mip) (2.21)\n",
            "Installing collected packages: mip\n",
            "Successfully installed mip-1.13.0\n"
          ]
        }
      ]
    },
    {
      "cell_type": "code",
      "metadata": {
        "id": "L-K16aqTqefb"
      },
      "source": [
        "import mip\n",
        "import numpy as np\n",
        "import pandas as pd\n",
        "import json\n",
        "import seaborn\n",
        "import itertools"
      ],
      "execution_count": 2,
      "outputs": []
    },
    {
      "cell_type": "code",
      "source": [
        "## Example Problem Sets and Solution in MIP ###\n",
        "## https://python-mip.readthedocs.io/en/latest/examples.html ##"
      ],
      "metadata": {
        "id": "gnGSkbSWRAtZ"
      },
      "execution_count": null,
      "outputs": []
    },
    {
      "cell_type": "code",
      "metadata": {
        "id": "J0734v48qh91"
      },
      "source": [
        "#### Variable List ####\n",
        "# Material / Stock Reserved = st\n",
        "# Supplier Capacity in Total = sc\n",
        "# Mininum Order Qty (Lotsize) = lot\n",
        "# Demand Qty (from targeted customer) = dem\n",
        "# Processing Time = \"objective\", pt1, pt2, pt3...\n",
        "# LeadTime = lt\n",
        "# Production Capacity = pc"
      ],
      "execution_count": null,
      "outputs": []
    },
    {
      "cell_type": "code",
      "source": [
        "## Data simulations\n",
        "import random\n",
        "random.seed(1)\n",
        "\n",
        "def simulator(n_targets, n_sources):\n",
        "    st = list()  ## stock / reserved inventory\n",
        "    pc = list()  ## weekly productivity\n",
        "    lo = list()  ## lotsize\n",
        "    de = list()  ## demands\n",
        "    lt = list()  ## lead time\n",
        "    sc = list()  ## source-specific total capacity\n",
        "\n",
        "    up_st, low_st = 1000, 0\n",
        "    up_pc, low_pc = 3000, 100\n",
        "    up_lo, low_lo = 10000, 2000\n",
        "    up_de, low_de = 40000, 2000\n",
        "    up_lt, low_lt = 16, 6\n",
        "    up_sc, low_sc = 300, 100\n",
        "\n",
        "    for n in range(n_targets):\n",
        "        st.append(random.randint(low_st, up_st))\n",
        "        pc.append(random.randint(low_pc, up_pc))\n",
        "        lo.append(random.randint(low_lo, up_lo))\n",
        "        de.append(random.randint(low_de, up_de))\n",
        "        lt.append(random.randint(low_lt, up_lt))\n",
        "\n",
        "    for j in range(n_sources):\n",
        "        sc.append(random.randint(low_sc, up_sc) * 1000)\n",
        "\n",
        "    data_job = pd.DataFrame({'item':list(range(n_targets)),\n",
        "                             'stock':st, \n",
        "                             'capacity':pc,\n",
        "                             'lotsize':lo,\n",
        "                             'demands':de,\n",
        "                             'lead_time':lt\n",
        "                             })\n",
        "    data_source = pd.DataFrame({'vendor':list(range(n_sources)),\n",
        "                                'capacity':sc\n",
        "                                })\n",
        "    return data_job, data_source"
      ],
      "metadata": {
        "id": "7Dq6zrgYaWRp"
      },
      "execution_count": 3,
      "outputs": []
    },
    {
      "cell_type": "code",
      "source": [
        "## objective:   min(sum(pt(i))\n",
        "## constraint 1:  st(i) + pc(i) * pt(i) >= de(i)\n",
        "## constraint 2:  pc(i) * pt(i) >= lo(i) \n",
        "## constraint 3:  pt(i) >= lt(i)\n",
        "## constraint 4:  sum(pc(i,j)) <= sc(j) for j in len(n_sources)\n",
        "\n",
        "def models(jobs, sources):\n",
        "\n",
        "    st = jobs.iloc[:,1].values.tolist()\n",
        "    pc = jobs.iloc[:,2].values.tolist()\n",
        "    lot = jobs.iloc[:,3].values.tolist()\n",
        "    dem = jobs.iloc[:,4].values.tolist()\n",
        "    lt = jobs.iloc[:,5].values.tolist()\n",
        "    s = sources.iloc[:,0].values.tolist()\n",
        "    sc = sources.iloc[:,1].values.tolist()\n",
        "\n",
        "    ## mip model\n",
        "    model = mip.Model(sense = mip.MINIMIZE, solver_name = mip.CBC)\n",
        "    ## decision variable\n",
        "    v = [[model.add_var(name=\"v({},{})\".format(n, m), var_type = mip.BINARY)\n",
        "          for n in range(sources.shape[0])]\n",
        "         for m in range(jobs.shape[0])]\n",
        "    ## outcome variable\n",
        "    pt = [model.add_var(name=\"pt({})\".format(n), var_type = mip.INTEGER)\n",
        "          for n in range(jobs.shape[0])]\n",
        "    ## constraints\n",
        "    for i in range(len(pt)):\n",
        "        model.add_constr(st[i] + pc[i] * pt[i] >= dem[i])\n",
        "        model.add_constr(pc[i] * pt[i] >= lot[i])\n",
        "        model.add_constr(pt[i] >= lt[i])\n",
        "        model.add_constr( mip.xsum(v[i][j] for j in range(sources.shape[0])) == 1 )\n",
        "    for j in range(sources.shape[0]):\n",
        "        model.add_constr( mip.xsum(pc[i] * pt[i] for i in range(len(pc)) if v[i] == s[j]) <= sc[j] )\n",
        "    ## objective\n",
        "    model.objective = mip.xsum(pt[i] for i in range(len(pt)))\n",
        "    ## optimize\n",
        "    model_state = model.optimize()\n",
        "    \n",
        "    return model, model_state"
      ],
      "metadata": {
        "id": "9OGIC7iYYG2p"
      },
      "execution_count": 7,
      "outputs": []
    },
    {
      "cell_type": "code",
      "source": [
        "data_job, data_source = simulator(n_targets = 10, n_sources = 2)"
      ],
      "metadata": {
        "id": "L9AuYD4Kui0x"
      },
      "execution_count": 5,
      "outputs": []
    },
    {
      "cell_type": "code",
      "source": [
        "model, model_state = models(data_job, data_source)"
      ],
      "metadata": {
        "id": "iWzbL4oTZFsf"
      },
      "execution_count": 8,
      "outputs": []
    },
    {
      "cell_type": "code",
      "source": [
        "model_state == mip.OptimizationStatus.OPTIMAL"
      ],
      "metadata": {
        "colab": {
          "base_uri": "https://localhost:8080/"
        },
        "id": "0V0BQ1_gsiSP",
        "outputId": "ec07fd85-9704-4df6-b644-b7e031462f83"
      },
      "execution_count": 11,
      "outputs": [
        {
          "output_type": "execute_result",
          "data": {
            "text/plain": [
              "True"
            ]
          },
          "metadata": {},
          "execution_count": 11
        }
      ]
    },
    {
      "cell_type": "code",
      "source": [
        "model_state"
      ],
      "metadata": {
        "colab": {
          "base_uri": "https://localhost:8080/"
        },
        "id": "fgsQ0ky0X__W",
        "outputId": "33d2828d-c650-4614-a673-3d08617c7563"
      },
      "execution_count": 12,
      "outputs": [
        {
          "output_type": "execute_result",
          "data": {
            "text/plain": [
              "<OptimizationStatus.OPTIMAL: 0>"
            ]
          },
          "metadata": {},
          "execution_count": 12
        }
      ]
    },
    {
      "cell_type": "code",
      "source": [
        "print(\"Number of solution: \" + str(model.num_solutions))\n",
        "print(\"================================================\")\n",
        "for sol in range(model.num_solutions):\n",
        "    print(\"Optimal Solution \" + str(sol + 1) + \" :\")\n",
        "    for v in range(len(model.vars)):\n",
        "        if \"v\" in model.vars[v].name:\n",
        "            if model.vars[v].xi(sol) == 1:\n",
        "                print(\"Product \" + str(int(model.vars[v].name[-2:-1]) + 1) + \" allocated at (or procured from) Source \" + str(int(model.vars[v].name[2]) + 1))\n",
        "        elif \"pt\" in model.vars[v].name:\n",
        "            print(\"Product \" + str(int(model.vars[v].name[-2:-1]) + 1) + \" total processing time = \" + str(int(model.vars[v].xi(sol))) + \" weeks\")"
      ],
      "metadata": {
        "colab": {
          "base_uri": "https://localhost:8080/"
        },
        "id": "wg0Q5q_VKNo_",
        "outputId": "8b16177a-da83-4e44-b44a-4fc757fdb057"
      },
      "execution_count": 14,
      "outputs": [
        {
          "output_type": "stream",
          "name": "stdout",
          "text": [
            "Number of solution: 1\n",
            "================================================\n",
            "Optimal Solution 1 :\n",
            "Product 1 allocated at (or procured from) Source 2\n",
            "Product 2 allocated at (or procured from) Source 1\n",
            "Product 3 allocated at (or procured from) Source 1\n",
            "Product 4 allocated at (or procured from) Source 1\n",
            "Product 5 allocated at (or procured from) Source 2\n",
            "Product 6 allocated at (or procured from) Source 2\n",
            "Product 7 allocated at (or procured from) Source 1\n",
            "Product 8 allocated at (or procured from) Source 1\n",
            "Product 9 allocated at (or procured from) Source 2\n",
            "Product 10 allocated at (or procured from) Source 1\n",
            "Product 1 total processing time = 10 weeks\n",
            "Product 2 total processing time = 15 weeks\n",
            "Product 3 total processing time = 10 weeks\n",
            "Product 4 total processing time = 126 weeks\n",
            "Product 5 total processing time = 284 weeks\n",
            "Product 6 total processing time = 11 weeks\n",
            "Product 7 total processing time = 197 weeks\n",
            "Product 8 total processing time = 12 weeks\n",
            "Product 9 total processing time = 73 weeks\n",
            "Product 10 total processing time = 11 weeks\n"
          ]
        }
      ]
    },
    {
      "cell_type": "code",
      "source": [
        "## simulate 10 products to be produced/procured\n",
        "data_job"
      ],
      "metadata": {
        "colab": {
          "base_uri": "https://localhost:8080/",
          "height": 363
        },
        "id": "U8vRgN7kGUSi",
        "outputId": "a1216366-0a30-4a60-ef0b-d1989a6d351b"
      },
      "execution_count": 9,
      "outputs": [
        {
          "output_type": "execute_result",
          "data": {
            "text/html": [
              "\n",
              "  <div id=\"df-6215b8cc-7530-4f6f-8fc7-a80ea6926fdb\">\n",
              "    <div class=\"colab-df-container\">\n",
              "      <div>\n",
              "<style scoped>\n",
              "    .dataframe tbody tr th:only-of-type {\n",
              "        vertical-align: middle;\n",
              "    }\n",
              "\n",
              "    .dataframe tbody tr th {\n",
              "        vertical-align: top;\n",
              "    }\n",
              "\n",
              "    .dataframe thead th {\n",
              "        text-align: right;\n",
              "    }\n",
              "</style>\n",
              "<table border=\"1\" class=\"dataframe\">\n",
              "  <thead>\n",
              "    <tr style=\"text-align: right;\">\n",
              "      <th></th>\n",
              "      <th>item</th>\n",
              "      <th>stock</th>\n",
              "      <th>capacity</th>\n",
              "      <th>lotsize</th>\n",
              "      <th>demands</th>\n",
              "      <th>lead_time</th>\n",
              "    </tr>\n",
              "  </thead>\n",
              "  <tbody>\n",
              "    <tr>\n",
              "      <th>0</th>\n",
              "      <td>0</td>\n",
              "      <td>137</td>\n",
              "      <td>2431</td>\n",
              "      <td>8942</td>\n",
              "      <td>6135</td>\n",
              "      <td>10</td>\n",
              "    </tr>\n",
              "    <tr>\n",
              "      <th>1</th>\n",
              "      <td>1</td>\n",
              "      <td>120</td>\n",
              "      <td>2129</td>\n",
              "      <td>8233</td>\n",
              "      <td>31457</td>\n",
              "      <td>13</td>\n",
              "    </tr>\n",
              "    <tr>\n",
              "      <th>2</th>\n",
              "      <td>2</td>\n",
              "      <td>667</td>\n",
              "      <td>1654</td>\n",
              "      <td>8461</td>\n",
              "      <td>15759</td>\n",
              "      <td>7</td>\n",
              "    </tr>\n",
              "    <tr>\n",
              "      <th>3</th>\n",
              "      <td>3</td>\n",
              "      <td>499</td>\n",
              "      <td>216</td>\n",
              "      <td>9318</td>\n",
              "      <td>27546</td>\n",
              "      <td>12</td>\n",
              "    </tr>\n",
              "    <tr>\n",
              "      <th>4</th>\n",
              "      <td>4</td>\n",
              "      <td>622</td>\n",
              "      <td>108</td>\n",
              "      <td>7700</td>\n",
              "      <td>31188</td>\n",
              "      <td>10</td>\n",
              "    </tr>\n",
              "    <tr>\n",
              "      <th>5</th>\n",
              "      <td>5</td>\n",
              "      <td>738</td>\n",
              "      <td>1037</td>\n",
              "      <td>6842</td>\n",
              "      <td>8699</td>\n",
              "      <td>11</td>\n",
              "    </tr>\n",
              "    <tr>\n",
              "      <th>6</th>\n",
              "      <td>6</td>\n",
              "      <td>31</td>\n",
              "      <td>191</td>\n",
              "      <td>2208</td>\n",
              "      <td>37482</td>\n",
              "      <td>6</td>\n",
              "    </tr>\n",
              "    <tr>\n",
              "      <th>7</th>\n",
              "      <td>7</td>\n",
              "      <td>961</td>\n",
              "      <td>1661</td>\n",
              "      <td>7623</td>\n",
              "      <td>16195</td>\n",
              "      <td>12</td>\n",
              "    </tr>\n",
              "    <tr>\n",
              "      <th>8</th>\n",
              "      <td>8</td>\n",
              "      <td>743</td>\n",
              "      <td>218</td>\n",
              "      <td>6322</td>\n",
              "      <td>16528</td>\n",
              "      <td>13</td>\n",
              "    </tr>\n",
              "    <tr>\n",
              "      <th>9</th>\n",
              "      <td>9</td>\n",
              "      <td>961</td>\n",
              "      <td>2130</td>\n",
              "      <td>6529</td>\n",
              "      <td>17275</td>\n",
              "      <td>11</td>\n",
              "    </tr>\n",
              "  </tbody>\n",
              "</table>\n",
              "</div>\n",
              "      <button class=\"colab-df-convert\" onclick=\"convertToInteractive('df-6215b8cc-7530-4f6f-8fc7-a80ea6926fdb')\"\n",
              "              title=\"Convert this dataframe to an interactive table.\"\n",
              "              style=\"display:none;\">\n",
              "        \n",
              "  <svg xmlns=\"http://www.w3.org/2000/svg\" height=\"24px\"viewBox=\"0 0 24 24\"\n",
              "       width=\"24px\">\n",
              "    <path d=\"M0 0h24v24H0V0z\" fill=\"none\"/>\n",
              "    <path d=\"M18.56 5.44l.94 2.06.94-2.06 2.06-.94-2.06-.94-.94-2.06-.94 2.06-2.06.94zm-11 1L8.5 8.5l.94-2.06 2.06-.94-2.06-.94L8.5 2.5l-.94 2.06-2.06.94zm10 10l.94 2.06.94-2.06 2.06-.94-2.06-.94-.94-2.06-.94 2.06-2.06.94z\"/><path d=\"M17.41 7.96l-1.37-1.37c-.4-.4-.92-.59-1.43-.59-.52 0-1.04.2-1.43.59L10.3 9.45l-7.72 7.72c-.78.78-.78 2.05 0 2.83L4 21.41c.39.39.9.59 1.41.59.51 0 1.02-.2 1.41-.59l7.78-7.78 2.81-2.81c.8-.78.8-2.07 0-2.86zM5.41 20L4 18.59l7.72-7.72 1.47 1.35L5.41 20z\"/>\n",
              "  </svg>\n",
              "      </button>\n",
              "      \n",
              "  <style>\n",
              "    .colab-df-container {\n",
              "      display:flex;\n",
              "      flex-wrap:wrap;\n",
              "      gap: 12px;\n",
              "    }\n",
              "\n",
              "    .colab-df-convert {\n",
              "      background-color: #E8F0FE;\n",
              "      border: none;\n",
              "      border-radius: 50%;\n",
              "      cursor: pointer;\n",
              "      display: none;\n",
              "      fill: #1967D2;\n",
              "      height: 32px;\n",
              "      padding: 0 0 0 0;\n",
              "      width: 32px;\n",
              "    }\n",
              "\n",
              "    .colab-df-convert:hover {\n",
              "      background-color: #E2EBFA;\n",
              "      box-shadow: 0px 1px 2px rgba(60, 64, 67, 0.3), 0px 1px 3px 1px rgba(60, 64, 67, 0.15);\n",
              "      fill: #174EA6;\n",
              "    }\n",
              "\n",
              "    [theme=dark] .colab-df-convert {\n",
              "      background-color: #3B4455;\n",
              "      fill: #D2E3FC;\n",
              "    }\n",
              "\n",
              "    [theme=dark] .colab-df-convert:hover {\n",
              "      background-color: #434B5C;\n",
              "      box-shadow: 0px 1px 3px 1px rgba(0, 0, 0, 0.15);\n",
              "      filter: drop-shadow(0px 1px 2px rgba(0, 0, 0, 0.3));\n",
              "      fill: #FFFFFF;\n",
              "    }\n",
              "  </style>\n",
              "\n",
              "      <script>\n",
              "        const buttonEl =\n",
              "          document.querySelector('#df-6215b8cc-7530-4f6f-8fc7-a80ea6926fdb button.colab-df-convert');\n",
              "        buttonEl.style.display =\n",
              "          google.colab.kernel.accessAllowed ? 'block' : 'none';\n",
              "\n",
              "        async function convertToInteractive(key) {\n",
              "          const element = document.querySelector('#df-6215b8cc-7530-4f6f-8fc7-a80ea6926fdb');\n",
              "          const dataTable =\n",
              "            await google.colab.kernel.invokeFunction('convertToInteractive',\n",
              "                                                     [key], {});\n",
              "          if (!dataTable) return;\n",
              "\n",
              "          const docLinkHtml = 'Like what you see? Visit the ' +\n",
              "            '<a target=\"_blank\" href=https://colab.research.google.com/notebooks/data_table.ipynb>data table notebook</a>'\n",
              "            + ' to learn more about interactive tables.';\n",
              "          element.innerHTML = '';\n",
              "          dataTable['output_type'] = 'display_data';\n",
              "          await google.colab.output.renderOutput(dataTable, element);\n",
              "          const docLink = document.createElement('div');\n",
              "          docLink.innerHTML = docLinkHtml;\n",
              "          element.appendChild(docLink);\n",
              "        }\n",
              "      </script>\n",
              "    </div>\n",
              "  </div>\n",
              "  "
            ],
            "text/plain": [
              "   item  stock  capacity  lotsize  demands  lead_time\n",
              "0     0    137      2431     8942     6135         10\n",
              "1     1    120      2129     8233    31457         13\n",
              "2     2    667      1654     8461    15759          7\n",
              "3     3    499       216     9318    27546         12\n",
              "4     4    622       108     7700    31188         10\n",
              "5     5    738      1037     6842     8699         11\n",
              "6     6     31       191     2208    37482          6\n",
              "7     7    961      1661     7623    16195         12\n",
              "8     8    743       218     6322    16528         13\n",
              "9     9    961      2130     6529    17275         11"
            ]
          },
          "metadata": {},
          "execution_count": 9
        }
      ]
    },
    {
      "cell_type": "code",
      "source": [
        "## simulate 2 vendors/suppliers\n",
        "data_source"
      ],
      "metadata": {
        "colab": {
          "base_uri": "https://localhost:8080/",
          "height": 112
        },
        "id": "YuVtR3DO-I63",
        "outputId": "5da575aa-b281-4052-ae59-30a2c8208439"
      },
      "execution_count": 10,
      "outputs": [
        {
          "output_type": "execute_result",
          "data": {
            "text/html": [
              "\n",
              "  <div id=\"df-4522e08b-ef3c-48ea-9e07-95ea803e32f9\">\n",
              "    <div class=\"colab-df-container\">\n",
              "      <div>\n",
              "<style scoped>\n",
              "    .dataframe tbody tr th:only-of-type {\n",
              "        vertical-align: middle;\n",
              "    }\n",
              "\n",
              "    .dataframe tbody tr th {\n",
              "        vertical-align: top;\n",
              "    }\n",
              "\n",
              "    .dataframe thead th {\n",
              "        text-align: right;\n",
              "    }\n",
              "</style>\n",
              "<table border=\"1\" class=\"dataframe\">\n",
              "  <thead>\n",
              "    <tr style=\"text-align: right;\">\n",
              "      <th></th>\n",
              "      <th>vendor</th>\n",
              "      <th>capacity</th>\n",
              "    </tr>\n",
              "  </thead>\n",
              "  <tbody>\n",
              "    <tr>\n",
              "      <th>0</th>\n",
              "      <td>0</td>\n",
              "      <td>159000</td>\n",
              "    </tr>\n",
              "    <tr>\n",
              "      <th>1</th>\n",
              "      <td>1</td>\n",
              "      <td>273000</td>\n",
              "    </tr>\n",
              "  </tbody>\n",
              "</table>\n",
              "</div>\n",
              "      <button class=\"colab-df-convert\" onclick=\"convertToInteractive('df-4522e08b-ef3c-48ea-9e07-95ea803e32f9')\"\n",
              "              title=\"Convert this dataframe to an interactive table.\"\n",
              "              style=\"display:none;\">\n",
              "        \n",
              "  <svg xmlns=\"http://www.w3.org/2000/svg\" height=\"24px\"viewBox=\"0 0 24 24\"\n",
              "       width=\"24px\">\n",
              "    <path d=\"M0 0h24v24H0V0z\" fill=\"none\"/>\n",
              "    <path d=\"M18.56 5.44l.94 2.06.94-2.06 2.06-.94-2.06-.94-.94-2.06-.94 2.06-2.06.94zm-11 1L8.5 8.5l.94-2.06 2.06-.94-2.06-.94L8.5 2.5l-.94 2.06-2.06.94zm10 10l.94 2.06.94-2.06 2.06-.94-2.06-.94-.94-2.06-.94 2.06-2.06.94z\"/><path d=\"M17.41 7.96l-1.37-1.37c-.4-.4-.92-.59-1.43-.59-.52 0-1.04.2-1.43.59L10.3 9.45l-7.72 7.72c-.78.78-.78 2.05 0 2.83L4 21.41c.39.39.9.59 1.41.59.51 0 1.02-.2 1.41-.59l7.78-7.78 2.81-2.81c.8-.78.8-2.07 0-2.86zM5.41 20L4 18.59l7.72-7.72 1.47 1.35L5.41 20z\"/>\n",
              "  </svg>\n",
              "      </button>\n",
              "      \n",
              "  <style>\n",
              "    .colab-df-container {\n",
              "      display:flex;\n",
              "      flex-wrap:wrap;\n",
              "      gap: 12px;\n",
              "    }\n",
              "\n",
              "    .colab-df-convert {\n",
              "      background-color: #E8F0FE;\n",
              "      border: none;\n",
              "      border-radius: 50%;\n",
              "      cursor: pointer;\n",
              "      display: none;\n",
              "      fill: #1967D2;\n",
              "      height: 32px;\n",
              "      padding: 0 0 0 0;\n",
              "      width: 32px;\n",
              "    }\n",
              "\n",
              "    .colab-df-convert:hover {\n",
              "      background-color: #E2EBFA;\n",
              "      box-shadow: 0px 1px 2px rgba(60, 64, 67, 0.3), 0px 1px 3px 1px rgba(60, 64, 67, 0.15);\n",
              "      fill: #174EA6;\n",
              "    }\n",
              "\n",
              "    [theme=dark] .colab-df-convert {\n",
              "      background-color: #3B4455;\n",
              "      fill: #D2E3FC;\n",
              "    }\n",
              "\n",
              "    [theme=dark] .colab-df-convert:hover {\n",
              "      background-color: #434B5C;\n",
              "      box-shadow: 0px 1px 3px 1px rgba(0, 0, 0, 0.15);\n",
              "      filter: drop-shadow(0px 1px 2px rgba(0, 0, 0, 0.3));\n",
              "      fill: #FFFFFF;\n",
              "    }\n",
              "  </style>\n",
              "\n",
              "      <script>\n",
              "        const buttonEl =\n",
              "          document.querySelector('#df-4522e08b-ef3c-48ea-9e07-95ea803e32f9 button.colab-df-convert');\n",
              "        buttonEl.style.display =\n",
              "          google.colab.kernel.accessAllowed ? 'block' : 'none';\n",
              "\n",
              "        async function convertToInteractive(key) {\n",
              "          const element = document.querySelector('#df-4522e08b-ef3c-48ea-9e07-95ea803e32f9');\n",
              "          const dataTable =\n",
              "            await google.colab.kernel.invokeFunction('convertToInteractive',\n",
              "                                                     [key], {});\n",
              "          if (!dataTable) return;\n",
              "\n",
              "          const docLinkHtml = 'Like what you see? Visit the ' +\n",
              "            '<a target=\"_blank\" href=https://colab.research.google.com/notebooks/data_table.ipynb>data table notebook</a>'\n",
              "            + ' to learn more about interactive tables.';\n",
              "          element.innerHTML = '';\n",
              "          dataTable['output_type'] = 'display_data';\n",
              "          await google.colab.output.renderOutput(dataTable, element);\n",
              "          const docLink = document.createElement('div');\n",
              "          docLink.innerHTML = docLinkHtml;\n",
              "          element.appendChild(docLink);\n",
              "        }\n",
              "      </script>\n",
              "    </div>\n",
              "  </div>\n",
              "  "
            ],
            "text/plain": [
              "   vendor  capacity\n",
              "0       0    159000\n",
              "1       1    273000"
            ]
          },
          "metadata": {},
          "execution_count": 10
        }
      ]
    }
  ]
}